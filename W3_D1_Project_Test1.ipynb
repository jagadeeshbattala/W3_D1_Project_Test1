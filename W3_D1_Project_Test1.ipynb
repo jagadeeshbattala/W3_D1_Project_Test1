{
 "cells": [
  {
   "cell_type": "markdown",
   "metadata": {},
   "source": [
    "### Project"
   ]
  },
  {
   "cell_type": "code",
   "execution_count": 7,
   "metadata": {},
   "outputs": [
    {
     "name": "stdout",
     "output_type": "stream",
     "text": [
      "Enter the input string: Machine learning is about Math and Stat. Other than characters and digits like 0123456789 are special characters & some are %-#@\n",
      "\n",
      "Input String is: Machine learning is about Math and Stat. Other than characters and digits like 0123456789 are special characters & some are %-#@\n",
      "\n",
      "Encryption vaue of given string is: u8AFGLC JC8PLGLE GQ 89MSR u8RF 8LB 0R8R. wRFCP RF8L AF8P8ARCPQ 8LB BGEGRQ JGIC YZabcdefgh 8PC QNCAG8J AF8P8ARCPQ & QMKC 8PC %-#@\n",
      "\n",
      "Decryption vaue of given string is: Machine learning is about Math and Stat. Other than characters and digits like 0123456789 are special characters & some are %-#@\n"
     ]
    }
   ],
   "source": [
    "import numpy as np\n",
    "\n",
    "# Cipher utility class that provides encryption and decryption methods.\n",
    "class Cipher:\n",
    "    L2I = dict(zip(\"ABCDEFGHIJKLMNOPQRSTUVWXYZabcdefghijklmnopqrstuvwxyz0123456789\",range(62)))\n",
    "    I2L = dict(zip(range(62),\"ABCDEFGHIJKLMNOPQRSTUVWXYZabcdefghijklmnopqrstuvwxyz0123456789\"))\n",
    "    # constructor initialization\n",
    "    def __init__(self,instr): \n",
    "        self.Instr=instr\n",
    "    def encrypt(self,key):\n",
    "        L2I = dict(zip(\"ABCDEFGHIJKLMNOPQRSTUVWXYZabcdefghijklmnopqrstuvwxyz0123456789\",range(62)))\n",
    "        I2L = dict(zip(range(62),\"ABCDEFGHIJKLMNOPQRSTUVWXYZabcdefghijklmnopqrstuvwxyz0123456789\"))\n",
    "        ciphertext = \"\"\n",
    "        Instr=self.Instr\n",
    "        for c in Instr:\n",
    "            if c.isalnum(): ciphertext += I2L[ (L2I[c] + key)%62]\n",
    "            else: ciphertext += c\n",
    "        return ciphertext\n",
    "    def decrypt(self,Enstr,key):\n",
    "        L2I = dict(zip(\"ABCDEFGHIJKLMNOPQRSTUVWXYZabcdefghijklmnopqrstuvwxyz0123456789\",range(62)))\n",
    "        I2L = dict(zip(range(62),\"ABCDEFGHIJKLMNOPQRSTUVWXYZabcdefghijklmnopqrstuvwxyz0123456789\"))\n",
    "        plaintext2 = \"\"\n",
    "        for c in Enstr:\n",
    "            if c.isalnum(): plaintext2 += I2L[ (L2I[c] - key)%62]\n",
    "            else: plaintext2 += c\n",
    "        return plaintext2\n",
    "\n",
    "k=np.random.randint(1,50,1)\n",
    "key=k[0]\n",
    "instr = str(input(\"Enter the input string: \"))\n",
    "c=Cipher(instr)\n",
    "encryptstr=c.encrypt(key)\n",
    "decryptstr=c.decrypt(encryptstr,key)\n",
    "print(\"\\nInput String is: \" + c.Instr)\n",
    "print(\"\\nEncryption vaue of given string is: \" + encryptstr)\n",
    "print(\"\\nDecryption vaue of given string is: \" + decryptstr)"
   ]
  },
  {
   "cell_type": "code",
   "execution_count": null,
   "metadata": {},
   "outputs": [],
   "source": []
  }
 ],
 "metadata": {
  "kernelspec": {
   "display_name": "Python 3",
   "language": "python",
   "name": "python3"
  },
  "language_info": {
   "codemirror_mode": {
    "name": "ipython",
    "version": 3
   },
   "file_extension": ".py",
   "mimetype": "text/x-python",
   "name": "python",
   "nbconvert_exporter": "python",
   "pygments_lexer": "ipython3",
   "version": "3.7.0"
  }
 },
 "nbformat": 4,
 "nbformat_minor": 2
}
